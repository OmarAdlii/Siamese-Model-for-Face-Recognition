{
 "cells": [
  {
   "cell_type": "code",
   "execution_count": null,
   "id": "a2ccbbed",
   "metadata": {},
   "outputs": [],
   "source": [
    "import cv2\n",
    "import random\n",
    "import os\n",
    "import matplotlib.pyplot as plt\n",
    "import numpy as np\n",
    "import uuid\n",
    "import shutil"
   ]
  },
  {
   "cell_type": "code",
   "execution_count": null,
   "id": "8e1559ef",
   "metadata": {},
   "outputs": [],
   "source": [
    "import tensorflow as tf\n",
    "from tensorflow.keras.models import Model\n",
    "from tensorflow.keras.layers import Layer, Conv2D, Dense, Input, Flatten, MaxPooling2D\n",
    "from tensorflow.keras.metrics import Precision, Recall"
   ]
  },
  {
   "cell_type": "code",
   "execution_count": null,
   "id": "2f355146",
   "metadata": {},
   "outputs": [],
   "source": [
    "pos_path=os.path.join('data','positive')\n",
    "neg_path=os.path.join('data','negative')\n",
    "anc_path=os.path.join('data','anchor')"
   ]
  },
  {
   "cell_type": "code",
   "execution_count": null,
   "id": "2d57fcbc",
   "metadata": {},
   "outputs": [],
   "source": [
    "os.makedirs(pos_path)\n",
    "os.makedirs(neg_path)\n",
    "os.makedirs(anc_path)"
   ]
  },
  {
   "cell_type": "code",
   "execution_count": null,
   "id": "dd2d1183",
   "metadata": {},
   "outputs": [],
   "source": [
    "#http://vis-www.cs.umass.edu/lfw/lfw.tgz\n",
    "!tar -xf lfw.tgz"
   ]
  },
  {
   "cell_type": "code",
   "execution_count": null,
   "id": "c84935bc",
   "metadata": {},
   "outputs": [],
   "source": [
    "for dic in os.listdir(os.path.join('lfw')):\n",
    "    for file in os.listdir(os.path.join('lfw',dic)):\n",
    "        existing_path=os.path.join('lfw',dic,file)\n",
    "        new_path=os.path.join(neg_path,file)\n",
    "        os.replace(existing_path,new_path)"
   ]
  },
  {
   "cell_type": "code",
   "execution_count": null,
   "id": "b8caccb4",
   "metadata": {},
   "outputs": [],
   "source": [
    "cam=cv2.VideoCapture(0)\n",
    "while cam.isOpened():\n",
    "    ret, frame=cam.read()\n",
    "    if cv2.waitKey(1) & 0XFF==ord('a'):\n",
    "        cv2.imwrite(os.path.join(anc_path,f'{uuid.uuid1()}.jpg'),frame[70:200+250,200:230+250,:])\n",
    "    if cv2.waitKey(1) & 0XFF==ord('p'):\n",
    "        cv2.imwrite(os.path.join(pos_path,f'{uuid.uuid1()}.jpg'),frame[70:200+250,200:230+250,:])\n",
    "    cv2.imshow('webCam',frame[70:200+250,200:230+250,:])\n",
    "    if cv2.waitKey(1) & 0XFF == ord('q'):\n",
    "        break\n",
    "cam.release()\n",
    "cv2.destroyAllWindows()"
   ]
  },
  {
   "cell_type": "code",
   "execution_count": null,
   "id": "f309eafe",
   "metadata": {},
   "outputs": [],
   "source": [
    "path=pos_path\n",
    "for image in os.listdir(path):\n",
    "    img=cv2.imread(os.path.join(path,image))\n",
    "    resized=cv2.resize(img,(250,250))\n",
    "    cv2.imwrite(os.path.join(path,image),resized)"
   ]
  },
  {
   "cell_type": "code",
   "execution_count": null,
   "id": "3c2419e7",
   "metadata": {},
   "outputs": [],
   "source": [
    "anchor=tf.data.Dataset.list_files(anc_path+'\\*.jpg').take(300)\n",
    "positive=tf.data.Dataset.list_files(pos_path+'\\*.jpg').take(300)\n",
    "negative=tf.data.Dataset.list_files(neg_path+'\\*.jpg').take(300)"
   ]
  },
  {
   "cell_type": "code",
   "execution_count": null,
   "id": "605ef969",
   "metadata": {},
   "outputs": [],
   "source": [
    "def preprocess(file_path):\n",
    "    byte_img=tf.io.read_file(file_path)\n",
    "    img=tf.io.decode_jpeg(byte_img)\n",
    "    img=tf.image.resize(img,(105,105))\n",
    "    img=img/255.0\n",
    "    return img"
   ]
  },
  {
   "cell_type": "code",
   "execution_count": null,
   "id": "11aa25d3",
   "metadata": {},
   "outputs": [],
   "source": [
    "positives=tf.data.Dataset.zip((anchor,positive,tf.data.Dataset.from_tensor_slices(tf.ones(len(anchor)))))\n",
    "negatives=tf.data.Dataset.zip((anchor,negative,tf.data.Dataset.from_tensor_slices(tf.zeros(len(anchor)))))\n",
    "data=positives.concatenate(negatives)"
   ]
  },
  {
   "cell_type": "code",
   "execution_count": null,
   "id": "3be121ba",
   "metadata": {},
   "outputs": [],
   "source": [
    "def preprocess_twin(input_img,validation_img,label):\n",
    "    return(preprocess(input_img),preprocess(validation_img),label)"
   ]
  },
  {
   "cell_type": "code",
   "execution_count": null,
   "id": "f13fd806",
   "metadata": {},
   "outputs": [],
   "source": [
    "data=data.map(preprocess_twin)\n",
    "data=data.cache()\n",
    "data=data.shuffle(buffer_size=1024)"
   ]
  },
  {
   "cell_type": "code",
   "execution_count": null,
   "id": "59ce8279",
   "metadata": {},
   "outputs": [],
   "source": [
    "train_data=data.take(round(len(data)*0.7))\n",
    "train_data=train_data.batch(16)\n",
    "train_data=train_data.prefetch(8)"
   ]
  },
  {
   "cell_type": "code",
   "execution_count": null,
   "id": "ebf23fde",
   "metadata": {},
   "outputs": [],
   "source": [
    "test_data=data.skip(round(len(data)*0.7))\n",
    "test_data=test_data.take(round(len(data)*0.3))\n",
    "test_data=test_data.batch(16)\n",
    "test_data=test_data.prefetch(8)"
   ]
  },
  {
   "cell_type": "code",
   "execution_count": null,
   "id": "ef89640d",
   "metadata": {},
   "outputs": [],
   "source": [
    "def make_embedding():\n",
    "    inp=Input(shape=(105,105,3),name='input_image')\n",
    "    c1=Conv2D(64,(10,10),activation='relu')(inp)\n",
    "    m1=MaxPooling2D(64,(2,2),padding='same')(c1)\n",
    "    c2=Conv2D(128,(7,7),activation='relu')(m1)\n",
    "    m2=MaxPooling2D(64,(2,2),padding='same')(c2)\n",
    "    c3=Conv2D(128,(4,4),activation='relu')(m2)\n",
    "    m3=MaxPooling2D(64,(2,2),padding='same')(c3)\n",
    "    c4=Conv2D(256,(4,4),activation='relu')(m3)\n",
    "    f1=Flatten()(c4)\n",
    "    d1=Dense(4096,activation='sigmoid')(f1)\n",
    "    \n",
    "    return Model(inputs=[inp],outputs=[d1],name='embedding')"
   ]
  },
  {
   "cell_type": "code",
   "execution_count": null,
   "id": "74fa8af0",
   "metadata": {},
   "outputs": [],
   "source": [
    "class L1Dist(Layer):\n",
    "    def __init__(self,**kwargs):\n",
    "        super().__init__()\n",
    "    def call(self,input_embedding,validation_embedding):\n",
    "        return tf.math.abs(input_embedding-validation_embedding)   "
   ]
  },
  {
   "cell_type": "code",
   "execution_count": null,
   "id": "ad68e28d",
   "metadata": {},
   "outputs": [],
   "source": [
    "embedding=make_embedding()\n",
    "def make_siamese_model():\n",
    "    input_image=Input(name='input_image',shape=(105,105,3))\n",
    "    validation_image=Input(name='validation_image',shape=(105,105,3))\n",
    "    siamese_layer=L1Dist()\n",
    "    siamese_layer._name='distance'\n",
    "    distances=siamese_layer(embedding(input_image),embedding(validation_image))\n",
    "    classifier=Dense(1,activation='sigmoid')(distances)\n",
    "    return Model(inputs=[input_image,validation_image],outputs=[classifier],name='SiameseNetwork')"
   ]
  },
  {
   "cell_type": "code",
   "execution_count": null,
   "id": "d66bfb62",
   "metadata": {},
   "outputs": [],
   "source": [
    "inp=embedding(Input(name='input_image',shape=(105,105,3)))\n",
    "val=embedding(Input(name='validation_image',shape=(105,105,3)))"
   ]
  },
  {
   "cell_type": "code",
   "execution_count": null,
   "id": "3d0b58de",
   "metadata": {},
   "outputs": [],
   "source": [
    "siamese_layer=L1Dist()\n",
    "siamese_layer(inp,val)"
   ]
  },
  {
   "cell_type": "code",
   "execution_count": null,
   "id": "353aab80",
   "metadata": {},
   "outputs": [],
   "source": [
    "siamese_model=make_siamese_model()"
   ]
  },
  {
   "cell_type": "code",
   "execution_count": null,
   "id": "3960607f",
   "metadata": {},
   "outputs": [],
   "source": [
    "siamese_model.summary()"
   ]
  },
  {
   "cell_type": "code",
   "execution_count": null,
   "id": "57c27d08",
   "metadata": {},
   "outputs": [],
   "source": [
    "binary_cross_loss=tf.losses.BinaryCrossentropy()\n",
    "optimizer=tf.keras.optimizers.Adam(learning_rate=1e-4)"
   ]
  },
  {
   "cell_type": "code",
   "execution_count": null,
   "id": "d37a9175",
   "metadata": {},
   "outputs": [],
   "source": [
    "checkpoint_dir='./training_checkpoints'\n",
    "os.makedirs(checkpoint_dir)\n",
    "checkpoint_prefix=os.path.join(checkpoint_dir,'ckpt')\n",
    "chechpoint=tf.train.Checkpoint(opt=optimizer,siamese_model=siamese_model)"
   ]
  },
  {
   "cell_type": "code",
   "execution_count": null,
   "id": "0a90bed4",
   "metadata": {},
   "outputs": [],
   "source": [
    "@tf.function()\n",
    "def train_step(batch):\n",
    "    with tf.GradientTape() as tape:\n",
    "        X=batch[:2]\n",
    "        y=batch[2]\n",
    "        yhat=siamese_model(X,training=True)\n",
    "        loss=binary_cross_loss(y,yhat)\n",
    "    print(loss)\n",
    "    grad=tape.gradient(loss,siamese_model.trainable_variables)\n",
    "    optimizer.apply_gradients(zip(grad,siamese_model.trainable_variables))\n",
    "    return loss"
   ]
  },
  {
   "cell_type": "code",
   "execution_count": null,
   "id": "b4be2ede",
   "metadata": {},
   "outputs": [],
   "source": [
    "def train(data,epoches):\n",
    "    for epoch in range(1,epoches+1):\n",
    "        print(f'Epoch {epoch}/{epoches}')\n",
    "        progbar=tf.keras.utils.Progbar(len(data))\n",
    "        \n",
    "        for idx,batch in enumerate(data):\n",
    "            train_step(batch)\n",
    "            progbar.update(idx+1)\n",
    "            \n",
    "            \n",
    "            if epoch % 10 == 0 :\n",
    "                chechpoint.save(file_prefix = checkpoint_prefix)"
   ]
  },
  {
   "cell_type": "code",
   "execution_count": null,
   "id": "034c5c44",
   "metadata": {},
   "outputs": [],
   "source": [
    "train(train_data,50)"
   ]
  },
  {
   "cell_type": "code",
   "execution_count": null,
   "id": "70951d60",
   "metadata": {},
   "outputs": [],
   "source": [
    "test_input, val_input,y_true=test_data.as_numpy_iterator().next()\n"
   ]
  },
  {
   "cell_type": "code",
   "execution_count": null,
   "id": "32e9edaf",
   "metadata": {},
   "outputs": [],
   "source": [
    "y_hat=siamese_model.predict([test_input,val_input])\n",
    "y_hat"
   ]
  },
  {
   "cell_type": "code",
   "execution_count": null,
   "id": "8699780d",
   "metadata": {},
   "outputs": [],
   "source": [
    "res=[1 if predict> 0.5 else 0 for predict in y_hat]\n",
    "res"
   ]
  },
  {
   "cell_type": "code",
   "execution_count": null,
   "id": "54f31e55",
   "metadata": {},
   "outputs": [],
   "source": [
    "recall=Recall()\n",
    "recall.update_state(y_true,res)\n",
    "recall_score=recall.result().numpy()\n",
    "recall_score"
   ]
  },
  {
   "cell_type": "code",
   "execution_count": null,
   "id": "94d02b57",
   "metadata": {},
   "outputs": [],
   "source": [
    "precision=Precision()\n",
    "precision.update_state(y_true,res)\n",
    "precision_score=precision.result().numpy()\n",
    "precision_score"
   ]
  },
  {
   "cell_type": "code",
   "execution_count": null,
   "id": "ac2731d8",
   "metadata": {},
   "outputs": [],
   "source": [
    "f1score=2*(precision_score*recall_score)/(precision_score+recall_score)\n",
    "f1score"
   ]
  },
  {
   "cell_type": "code",
   "execution_count": null,
   "id": "844922bc",
   "metadata": {},
   "outputs": [],
   "source": [
    "plt.figure(figsize=(18,8))\n",
    "plt.subplot(1,2,1)\n",
    "plt.axis('off')\n",
    "plt.imshow(test_input[0])\n",
    "plt.subplot(1,2,2)\n",
    "plt.axis('off')\n",
    "plt.imshow(val_input[0])\n",
    "plt.show()"
   ]
  },
  {
   "cell_type": "code",
   "execution_count": null,
   "id": "417a7423",
   "metadata": {},
   "outputs": [],
   "source": [
    "y_true[2]"
   ]
  },
  {
   "cell_type": "code",
   "execution_count": null,
   "id": "a9c9c1e3",
   "metadata": {},
   "outputs": [],
   "source": [
    "siamese_model.save('siames model.h5')"
   ]
  },
  {
   "cell_type": "code",
   "execution_count": null,
   "id": "b557ba2e",
   "metadata": {},
   "outputs": [],
   "source": [
    "model=tf.keras.models.load_model('siames model.h5',custom_objects={'L1Dist':L1Dist})"
   ]
  },
  {
   "cell_type": "code",
   "execution_count": null,
   "id": "0348d264",
   "metadata": {},
   "outputs": [],
   "source": [
    "model.predict([test_input,val_input])"
   ]
  },
  {
   "cell_type": "code",
   "execution_count": null,
   "id": "30a4d62e",
   "metadata": {},
   "outputs": [],
   "source": [
    "model.summary()"
   ]
  },
  {
   "cell_type": "code",
   "execution_count": null,
   "id": "a38c9cf3",
   "metadata": {},
   "outputs": [],
   "source": [
    "verification_images=os.path.join('application_data','verification_image')\n",
    "input_image=os.path.join('application_data','input_images')"
   ]
  },
  {
   "cell_type": "code",
   "execution_count": null,
   "id": "e01c325f",
   "metadata": {},
   "outputs": [],
   "source": [
    "os.makedirs(verification_images)\n",
    "os.makedirs(input_images)"
   ]
  },
  {
   "cell_type": "code",
   "execution_count": null,
   "id": "ec280998",
   "metadata": {},
   "outputs": [],
   "source": [
    "images_list=os.listdir(pos_path)\n",
    "random.shuffle(images_list)\n",
    "ver_img=images_list[:50]\n",
    "for image in ver_img:\n",
    "    shutil.copyfile(os.path.join(pos_path,image),os.path.join(verification_images,image))"
   ]
  },
  {
   "cell_type": "code",
   "execution_count": null,
   "id": "c20dfc4f",
   "metadata": {},
   "outputs": [],
   "source": [
    "def verfiy(model,detection_threshold,verification_threshold):\n",
    "    results=[]\n",
    "    \n",
    "    for image in os.listdir(verification_images):\n",
    "        validation_image=preprocess(os.path.join(verification_images,image))\n",
    "        input_img=preprocess(os.path.join(input_image,'input_image.jpg'))\n",
    "        \n",
    "        result=model.predict(list(np.expand_dims(np.array([validation_image,input_img]),axis=1)))\n",
    "        results.append(result)\n",
    "    detection=np.sum(np.array(results)>detection_threshold)\n",
    "\n",
    "    verification=detection/len(os.listdir(verification_images))\n",
    "        \n",
    "    return results, verification>verification_threshold\n"
   ]
  },
  {
   "cell_type": "code",
   "execution_count": null,
   "id": "e95dc389",
   "metadata": {
    "scrolled": true
   },
   "outputs": [],
   "source": [
    "cap=cv2.VideoCapture(0)\n",
    "while cap.isOpened():\n",
    "    ret,frame=cap.read()\n",
    "    frame=frame[70:200+250,200:230+250,:]\n",
    "    cv2.imshow('verification',frame)\n",
    "    \n",
    "    \n",
    "    if cv2.waitKey(1) & 0XFF==ord('v'):\n",
    "        cv2.imwrite(os.path.join(input_image,'input_image.jpg'),frame)\n",
    "        results,verified=verfiy(model,0.9,0.7)\n",
    "        print(verified)\n",
    "    if cv2.waitKey(1) & 0XFF==ord('q'):\n",
    "        break\n",
    "        \n",
    "cap.release()\n",
    "cv2.destroyAllWindows()"
   ]
  },
  {
   "cell_type": "code",
   "execution_count": null,
   "id": "1cd8cdcc",
   "metadata": {},
   "outputs": [],
   "source": []
  }
 ],
 "metadata": {
  "kernelspec": {
   "display_name": "Python 3 (ipykernel)",
   "language": "python",
   "name": "python3"
  },
  "language_info": {
   "codemirror_mode": {
    "name": "ipython",
    "version": 3
   },
   "file_extension": ".py",
   "mimetype": "text/x-python",
   "name": "python",
   "nbconvert_exporter": "python",
   "pygments_lexer": "ipython3",
   "version": "3.9.13"
  }
 },
 "nbformat": 4,
 "nbformat_minor": 5
}
